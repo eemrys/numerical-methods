{
 "cells": [
  {
   "cell_type": "markdown",
   "metadata": {},
   "source": [
    "# Лаба 2"
   ]
  },
  {
   "cell_type": "markdown",
   "metadata": {},
   "source": [
    "z^3=1, где z - комплексное"
   ]
  },
  {
   "cell_type": "markdown",
   "metadata": {},
   "source": [
    "система:\n",
    "\n",
    "x^3-3*x*y^2=1\n",
    "\n",
    "3*x^2*y-y^3=0"
   ]
  },
  {
   "cell_type": "code",
   "execution_count": 6,
   "metadata": {},
   "outputs": [],
   "source": [
    "import numpy as np"
   ]
  },
  {
   "cell_type": "code",
   "execution_count": 7,
   "metadata": {},
   "outputs": [],
   "source": [
    "def f(x, y):\n",
    "    return x**3 - 3*x*y**2 - 1\n",
    "def g(x, y):\n",
    "    return -y**3 + 3*x**2*y"
   ]
  },
  {
   "cell_type": "code",
   "execution_count": 8,
   "metadata": {},
   "outputs": [],
   "source": [
    "# have to determine myself\n",
    "Xm, Xp, Ym, Yp = -1.0, 0.0, 0.0, 2.0\n",
    "oor = (10,10)\n",
    "eps = 0.00001"
   ]
  },
  {
   "cell_type": "code",
   "execution_count": 9,
   "metadata": {},
   "outputs": [],
   "source": [
    "def getStart(Xm,Xp,Ym,Yp,oor):\n",
    "    p = [oor] * 3\n",
    "    e0 = e1 = e2 = 1000\n",
    "    for x in np.arange(Xm, Xp, 0.1):\n",
    "        for y in np.arange(Ym, Yp, 0.1):\n",
    "            fval = f(x,y)\n",
    "            gval = g(x,y)\n",
    "            if fval > 0 and gval > 0 and (np.fabs(fval) + np.fabs(gval) < e0):\n",
    "                p[0] = (x,y)\n",
    "                e0 = np.fabs(fval) + np.fabs(gval)\n",
    "            elif fval < 0 and gval < 0 and (np.fabs(fval) + np.fabs(gval) < e1):\n",
    "                p[1] = (x,y)\n",
    "                e1 = np.fabs(fval) + np.fabs(gval)\n",
    "            elif fval < 0 and gval > 0 and (np.fabs(fval) + np.fabs(gval) < e2):\n",
    "                p[2] = (x,y)\n",
    "                e2 = np.fabs(fval) + np.fabs(gval)\n",
    "    return p"
   ]
  },
  {
   "cell_type": "code",
   "execution_count": 10,
   "metadata": {},
   "outputs": [],
   "source": [
    "def get3points(p):\n",
    "    for x,y in p:\n",
    "        try:\n",
    "            fp = np.append(fp, [[x,y,f(x,y)]], axis=0)\n",
    "            gp = np.append(gp, [[x,y,g(x,y)]], axis=0)\n",
    "        except:\n",
    "            fp = np.array([[x,y,f(x,y)]])\n",
    "            gp = np.array([[x,y,g(x,y)]])\n",
    "    return fp,gp"
   ]
  },
  {
   "cell_type": "code",
   "execution_count": 11,
   "metadata": {},
   "outputs": [],
   "source": [
    "def getABCDcoeffs(p):\n",
    "    v1 = p[2] - p[0]\n",
    "    v2 = p[1] - p[0]\n",
    "    cp = np.cross(v1, v2)\n",
    "    if not (Xm <= cp[0] <= Xp and Ym <= cp[1] <= Yp):\n",
    "        cp = -cp\n",
    "    a, b, c = cp\n",
    "    d = - np.dot(cp, p[2])\n",
    "    return {'A' : a, 'B' : b, 'C' : c, 'D' : d, 'norm': cp}"
   ]
  },
  {
   "cell_type": "code",
   "execution_count": 12,
   "metadata": {},
   "outputs": [],
   "source": [
    "def plane_intersect(planeF, planeG):\n",
    "    dt = planeF['A']*planeG['B']-planeG['A']*planeF['B']\n",
    "    if np.fabs(dt)<0.000001:\n",
    "        return None\n",
    "    x = (-planeF['D'] * planeG['B'] + planeG['D'] * planeF['B']) / dt\n",
    "    y = (-planeF['A'] * planeG['D'] + planeG['A'] * planeF['D']) / dt\n",
    "    print(format(x,'.6f'), format(y,'.6f'), format(f(x,y), '.6f'), format(g(x,y), '.6f'))\n",
    "    return (x,y)"
   ]
  },
  {
   "cell_type": "code",
   "execution_count": 13,
   "metadata": {},
   "outputs": [],
   "source": [
    "def changePoints(p, x, y):\n",
    "    s1 = calcS(p[0], p[1], (x,y))\n",
    "    s2 = calcS(p[0], p[2], (x,y))\n",
    "    s3 = calcS(p[1], p[2], (x,y))\n",
    "    if s3 >= s2 and s3 >= s1:\n",
    "        return p[1], p[2], (x,y)\n",
    "    elif s2 >= s1 and s2 >= s3:\n",
    "        return p[0], p[2], (x,y)\n",
    "    else:\n",
    "        return p[0], p[1], (x,y)"
   ]
  },
  {
   "cell_type": "code",
   "execution_count": 14,
   "metadata": {},
   "outputs": [],
   "source": [
    "def calcS(p1,p2,p3):\n",
    "    a1 = p2[0] - p1[0]\n",
    "    a2 = p3[0] - p1[0]\n",
    "    b1 = p2[1] - p1[1]\n",
    "    b2 = p3[1] - p1[1]\n",
    "    return np.fabs(a1 * b2 - a2 * b1)"
   ]
  },
  {
   "cell_type": "code",
   "execution_count": 25,
   "metadata": {
    "scrolled": true
   },
   "outputs": [
    {
     "name": "stdout",
     "output_type": "stream",
     "text": [
      "[(1.1, 0.09999999999999964), (0.9, -2.220446049250313e-16), (1.0, 0.09999999999999964)]\n",
      "0.977159 -0.020597 -0.068215 -0.058993\n",
      "0.999420 -0.004815 -0.001808 -0.014427\n",
      "1.000377 -0.000186 0.001130 -0.000559\n",
      "1.000055 0.000068 0.000166 0.000205\n",
      "1.000000 0.000011 -0.000001 0.000034\n",
      "0.999999 0.000000 -0.000003 0.000000\n"
     ]
    }
   ],
   "source": [
    "points = getStart(Xm, Xp, Ym, Yp, oor)\n",
    "print(points)\n",
    "err = 1\n",
    "while err > eps:\n",
    "    fpoints, gpoints = get3points(points)\n",
    "    planeF = getABCDcoeffs(fpoints)\n",
    "    planeG = getABCDcoeffs(gpoints)\n",
    "    try:\n",
    "        xnew, ynew = plane_intersect(planeF, planeG)\n",
    "    except:\n",
    "        print('\\n method failed. your starting points were bullshit')\n",
    "        break\n",
    "    err = np.fabs(f(xnew,ynew)) + np.fabs(g(xnew,ynew))\n",
    "    points = changePoints(points, xnew, ynew)"
   ]
  },
  {
   "cell_type": "code",
   "execution_count": null,
   "metadata": {},
   "outputs": [],
   "source": []
  }
 ],
 "metadata": {
  "kernelspec": {
   "display_name": "Python 3",
   "language": "python",
   "name": "python3"
  },
  "language_info": {
   "codemirror_mode": {
    "name": "ipython",
    "version": 3
   },
   "file_extension": ".py",
   "mimetype": "text/x-python",
   "name": "python",
   "nbconvert_exporter": "python",
   "pygments_lexer": "ipython3",
   "version": "3.9.0"
  }
 },
 "nbformat": 4,
 "nbformat_minor": 2
}
