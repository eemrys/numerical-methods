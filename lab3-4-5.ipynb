{
 "cells": [
  {
   "cell_type": "markdown",
   "metadata": {},
   "source": [
    "# Лаба 3"
   ]
  },
  {
   "cell_type": "code",
   "execution_count": 2,
   "metadata": {},
   "outputs": [],
   "source": [
    "import numpy as np\n",
    "import scipy.linalg as la"
   ]
  },
  {
   "cell_type": "code",
   "execution_count": 2,
   "metadata": {},
   "outputs": [
    {
     "name": "stdout",
     "output_type": "stream",
     "text": [
      "[[ 9.42015  -8.30805  -9.53307  -8.2281    1.75512 ]\n",
      " [ 3.02591   8.17316  -2.4485   -4.31257  -9.73388 ]\n",
      " [ 9.81628   4.16608  -2.82632   3.914    -5.40269 ]\n",
      " [ 8.89584   9.90906   4.73373   5.68407  -0.482498]\n",
      " [-6.19739   9.49156  -7.41142  -6.2273    5.89038 ]] \n",
      "\n",
      " [[-0.251778]\n",
      " [ 6.15955 ]\n",
      " [-4.7441  ]\n",
      " [-0.914029]\n",
      " [-8.77194 ]]\n"
     ]
    }
   ],
   "source": [
    "A = np.array([[9.42015,-8.30805,-9.53307,-8.2281,1.75512],[3.02591,8.17316,-2.4485,-4.31257,-9.73388],[9.81628,4.16608,-2.82632,3.914,-5.40269],[8.89584,9.90906,4.73373,5.68407,-0.482498],[-6.19739,9.49156,-7.41142,-6.2273,5.89038]])\n",
    "b = np.array([[-0.251778],[6.15955],[-4.7441],[-0.914029], [-8.77194]])\n",
    "print(A, \"\\n\\n\", b)"
   ]
  },
  {
   "cell_type": "code",
   "execution_count": 3,
   "metadata": {},
   "outputs": [
    {
     "name": "stdout",
     "output_type": "stream",
     "text": [
      "L marix:\n",
      "\n",
      " [[ 1.          0.          0.          0.          0.        ]\n",
      " [ 0.95964561  1.          0.          0.          0.        ]\n",
      " [-0.63133794 -0.98502797  1.          0.          0.        ]\n",
      " [ 0.90623332 -0.4984247  -0.24476963  1.          0.        ]\n",
      " [ 0.30825425 -0.55980354  0.33903653  0.90936976  1.        ]] \n",
      "\n",
      "U marix:\n",
      "\n",
      " [[  9.81628      4.16608     -2.82632      3.914       -5.40269   ]\n",
      " [  0.         -12.30601038  -6.82080442 -11.98415291   6.93978774]\n",
      " [  0.           0.         -15.91446615 -15.56096906   9.31534182]\n",
      " [  0.           0.           0.          -7.64497762  10.15267405]\n",
      " [  0.           0.           0.           0.         -16.57433599]]\n"
     ]
    }
   ],
   "source": [
    "P, L, U = la.lu(A)\n",
    "print(\"L marix:\\n\\n\", L, \"\\n\\nU marix:\\n\\n\", U)\n",
    "L = np.dot(P,L)\n",
    "y = la.solve(L,b)\n",
    "x = la.solve(U, y)"
   ]
  },
  {
   "cell_type": "code",
   "execution_count": 4,
   "metadata": {},
   "outputs": [
    {
     "name": "stdout",
     "output_type": "stream",
     "text": [
      "y matrix:\n",
      "\n",
      " [[-4.7441    ]\n",
      " [ 4.30087673]\n",
      " [-7.53058646]\n",
      " [ 3.68563682]\n",
      " [ 9.23112219]] \n",
      "\n",
      "x matrix:\n",
      "\n",
      " [[ 0.17595345]\n",
      " [-0.21749941]\n",
      " [ 1.34179076]\n",
      " [-1.22174284]\n",
      " [-0.55695276]]\n"
     ]
    }
   ],
   "source": [
    "print(\"y matrix:\\n\\n\", y, \"\\n\\nx matrix:\\n\\n\", x)"
   ]
  },
  {
   "cell_type": "code",
   "execution_count": 9,
   "metadata": {},
   "outputs": [
    {
     "name": "stdout",
     "output_type": "stream",
     "text": [
      "[[-0.251778]\n",
      " [ 6.15955 ]\n",
      " [-4.7441  ]\n",
      " [-0.914029]\n",
      " [-8.77194 ]] \n",
      "\n",
      "[[-0.251778]\n",
      " [ 6.15955 ]\n",
      " [-4.7441  ]\n",
      " [-0.914029]\n",
      " [-8.77194 ]]\n"
     ]
    }
   ],
   "source": [
    "print(np.dot(A,x), \"\\n\")\n",
    "print(b)"
   ]
  },
  {
   "cell_type": "markdown",
   "metadata": {},
   "source": [
    "# Лаба 4"
   ]
  },
  {
   "cell_type": "code",
   "execution_count": 104,
   "metadata": {
    "scrolled": false
   },
   "outputs": [
    {
     "name": "stdout",
     "output_type": "stream",
     "text": [
      "\n",
      "Собственное значение:\n",
      "\n",
      " 21.633779287143124 \n",
      "\n",
      "Собственный вектор:\n",
      "\n",
      " [[ 0.589963]\n",
      " [ 0.152944]\n",
      " [-0.163641]\n",
      " [-0.661407]\n",
      " [-0.405357]]\n",
      "\n",
      "Проверка\n",
      "\n",
      "A * X 1 :\n",
      "\n",
      " [[ 12.763133]\n",
      " [  3.308745]\n",
      " [ -3.540182]\n",
      " [-14.308725]\n",
      " [ -8.769411]] \n",
      "\n",
      "lambda 1 * X 1 :\n",
      "\n",
      " [[ 12.763138]\n",
      " [  3.308746]\n",
      " [ -3.540178]\n",
      " [-14.308725]\n",
      " [ -8.769403]]\n",
      "\n",
      "Собственное значение:\n",
      "\n",
      " -19.37000494061105 \n",
      "\n",
      "Собственный вектор:\n",
      "\n",
      " [[-0.472589]\n",
      " [ 0.60161 ]\n",
      " [-0.326174]\n",
      " [-0.422532]\n",
      " [ 0.360282]]\n",
      "\n",
      "Проверка\n",
      "\n",
      "A * X 2 :\n",
      "\n",
      " [[  9.15405 ]\n",
      " [-11.653182]\n",
      " [  6.317987]\n",
      " [  8.184441]\n",
      " [ -6.978667]] \n",
      "\n",
      "lambda 2 * X 2 :\n",
      "\n",
      " [[  9.154049]\n",
      " [-11.653181]\n",
      " [  6.317986]\n",
      " [  8.184442]\n",
      " [ -6.978668]]\n",
      "\n",
      "Собственное значение:\n",
      "\n",
      " -6.274325720042434 \n",
      "\n",
      "Собственный вектор:\n",
      "\n",
      " [[-0.181067]\n",
      " [ 0.492804]\n",
      " [ 0.763428]\n",
      " [-0.005894]\n",
      " [-0.376166]]\n",
      "\n",
      "Проверка\n",
      "\n",
      "A * X 3 :\n",
      "\n",
      " [[ 1.13607 ]\n",
      " [-3.092018]\n",
      " [-4.789996]\n",
      " [ 0.036976]\n",
      " [ 2.360191]] \n",
      "\n",
      "lambda 3 * X 3 :\n",
      "\n",
      " [[ 1.136073]\n",
      " [-3.092014]\n",
      " [-4.789999]\n",
      " [ 0.036981]\n",
      " [ 2.36019 ]]\n",
      "\n",
      "Собственное значение:\n",
      "\n",
      " 9.703337346686485 \n",
      "\n",
      "Собственный вектор:\n",
      "\n",
      " [[ 0.381178]\n",
      " [ 0.599918]\n",
      " [-0.333888]\n",
      " [ 0.613296]\n",
      " [-0.084779]]\n",
      "\n",
      "Проверка\n",
      "\n",
      "A * X 4 :\n",
      "\n",
      " [[ 3.698703]\n",
      " [ 5.821205]\n",
      " [-3.239833]\n",
      " [ 5.951023]\n",
      " [-0.822634]] \n",
      "\n",
      "lambda 4 * X 4 :\n",
      "\n",
      " [[ 3.698702]\n",
      " [ 5.821209]\n",
      " [-3.239828]\n",
      " [ 5.951022]\n",
      " [-0.822636]]\n",
      "\n",
      "Собственное значение:\n",
      "\n",
      " -9.97484597317613 \n",
      "\n",
      "Собственный вектор:\n",
      "\n",
      " [[ 0.500521]\n",
      " [ 0.109162]\n",
      " [ 0.415365]\n",
      " [-0.088549]\n",
      " [ 0.746454]]\n",
      "\n",
      "Проверка\n",
      "\n",
      "A * X 5 :\n",
      "\n",
      " [[-4.992622]\n",
      " [-1.088871]\n",
      " [-4.143201]\n",
      " [ 0.883269]\n",
      " [-7.445761]] \n",
      "\n",
      "lambda 5 * X 5 :\n",
      "\n",
      " [[-4.992615]\n",
      " [-1.08887 ]\n",
      " [-4.143202]\n",
      " [ 0.883263]\n",
      " [-7.445766]]\n"
     ]
    }
   ],
   "source": [
    "from numpy import linalg as LA\n",
    "A = np.array([[1.90893,9.69298,-7.51579,-9.6057,-6.34327],[9.69298,-4.65499,-1.49693,6.42018,-5.68285],[-7.51579,-1.49693,-5.77746,-1.91992,2.69509],[-9.6057,6.42018,-1.91992,9.57701,8.88974],[-6.34327,-5.68285,2.69509,8.88974,-5.33555]])\n",
    "Ak = A\n",
    "n = A.shape[0]\n",
    "m = k = -1\n",
    "e = 0.0001\n",
    "Hh = list()\n",
    "np.set_printoptions(suppress=True, precision=6)\n",
    "###\n",
    "while True:\n",
    "    \n",
    "    max = Ak[0][1]\n",
    "    for i in range(0,n):\n",
    "        for j in range(0,n):\n",
    "            if i < j:\n",
    "                if np.fabs(Ak[i][j]) >= max:\n",
    "                    max = np.fabs(Ak[i][j])\n",
    "                    m = i\n",
    "                    k = j\n",
    "    if max < e:\n",
    "        break\n",
    "    fi = 0.5 * (np.arctan(2 * Ak[m][k] / (Ak[m][m] - Ak[k][k])))\n",
    "    H = np.zeros(shape=(n,n))\n",
    "    for i in range(0,n):\n",
    "        for j in range(0,n):\n",
    "            if i == j:\n",
    "                H[i][j] = 1\n",
    "    H[m][m]= np.cos(fi)\n",
    "    H[m][k]= - np.sin(fi)\n",
    "    H[k][m]= np.sin(fi)\n",
    "    H[k][k]= np.cos(fi)\n",
    "    Ak = np.dot(H.T, Ak)\n",
    "    Ak = np.dot(Ak,H)\n",
    "    Hh.append(H)\n",
    "###\n",
    "lam = list()\n",
    "for i in range (0,n):\n",
    "    lam.append(Ak[i][i])\n",
    "v = Hh[0]\n",
    "for i in range(1,len(Hh)):\n",
    "    v = np.dot(v, Hh[i])\n",
    "for i in range(0,len(lam)):\n",
    "    temp = v.T[i].reshape(n,1)\n",
    "    print('\\nСобственное значение:\\n\\n',lam[i], '\\n\\nСобственный вектор:\\n\\n', temp)\n",
    "    print('\\nПроверка\\n\\nA * X',i+1,':\\n\\n',np.dot(A, temp), '\\n\\nlambda',i+1,'* X',i+1,':\\n\\n', np.dot(lam[i], temp))    "
   ]
  },
  {
   "cell_type": "markdown",
   "metadata": {},
   "source": [
    "# Лаба 5"
   ]
  },
  {
   "cell_type": "code",
   "execution_count": 2,
   "metadata": {},
   "outputs": [],
   "source": [
    "from scipy.interpolate import lagrange\n",
    "from numpy.polynomial.polynomial import Polynomial\n",
    "\n",
    "X = np.array([-2,-1,0,1,2,3,4])\n",
    "Y = np.array([4.90,6.61,-4.06,1.81,0.75,9.94,7.40])\n",
    "poly = lagrange(X, Y)"
   ]
  },
  {
   "cell_type": "code",
   "execution_count": 8,
   "metadata": {},
   "outputs": [
    {
     "name": "stdout",
     "output_type": "stream",
     "text": [
      "коэффициенты многочлена в порядке убывания степени:\n",
      "\n",
      " [-4.06        3.128       9.49263889 -7.02354167 -0.98256944  1.49554167\n",
      " -0.24006944]\n",
      "\n",
      "          6         5          4         3         2\n",
      "-0.2401 x + 1.496 x - 0.9826 x - 7.024 x + 9.493 x + 3.128 x - 4.06\n"
     ]
    },
    {
     "data": {
      "text/plain": [
       "13.828953298124997"
      ]
     },
     "execution_count": 8,
     "metadata": {},
     "output_type": "execute_result"
    }
   ],
   "source": [
    "def lagrange_polynomial(all_x,y):\n",
    "    def P(x):\n",
    "        output = 0\n",
    "        coeffs=np.zeros(shape=(all_x.size,all_x.size))\n",
    "        for i in range(0,all_x.size):\n",
    "            poly = temp = y[i]            \n",
    "            for j in range(0,all_x.size):\n",
    "                if j == i:\n",
    "                    continue\n",
    "                poly *= (x-all_x[j]) / (all_x[i]-all_x[j])\n",
    "                temp *= 1 / (all_x[i]-all_x[j])  \n",
    "            new = np.poly1d([x for k,x in enumerate(all_x) if k!=i], True)\n",
    "            for k in range(len(new.c)):\n",
    "                coeffs[i][len(new.c)-1-k]= new.c[k]*temp\n",
    "            output += poly\n",
    "        t = []\n",
    "        for el in coeffs.T:\n",
    "            t.append(sum(el))\n",
    "        print('коэффициенты многочлена в порядке убывания степени:\\n\\n', np.array(t))\n",
    "        t.reverse()\n",
    "        print('\\n',np.poly1d(t))\n",
    "        return output\n",
    "\n",
    "    return P\n",
    "\n",
    "P = lagrange_polynomial(X,Y)\n",
    "P(-1.3)"
   ]
  },
  {
   "cell_type": "code",
   "execution_count": 70,
   "metadata": {},
   "outputs": [
    {
     "data": {
      "image/png": "[encoded data removed]",
      "text/plain": [
       "<Figure size 432x288 with 1 Axes>"
      ]
     },
     "metadata": {
      "needs_background": "light"
     },
     "output_type": "display_data"
    }
   ],
   "source": [
    "import matplotlib.pyplot as plt\n",
    "\n",
    "x = np.linspace(-2,4,num=100)\n",
    "Px = P(x)\n",
    "\n",
    "fig, ax = plt.subplots()\n",
    "\n",
    "ax.plot(X,Y,'ro')\n",
    "ax.plot(x,Px)\n",
    "plt.show()"
   ]
  },
  {
   "cell_type": "code",
   "execution_count": 7,
   "metadata": {},
   "outputs": [
    {
     "name": "stdout",
     "output_type": "stream",
     "text": [
      "коэффициенты многочлена в порядке убывания степени:\n",
      "\n",
      " [-4.06        3.128       9.49263889 -7.02354167 -0.98256944  1.49554167\n",
      " -0.24006944]\n",
      "\n",
      "          6         5          4         3         2\n",
      "-0.2401 x + 1.496 x - 0.9826 x - 7.024 x + 9.493 x + 3.128 x - 4.06\n"
     ]
    },
    {
     "data": {
      "text/plain": [
       "13.828953298125"
      ]
     },
     "execution_count": 7,
     "metadata": {},
     "output_type": "execute_result"
    }
   ],
   "source": [
    "import numpy as np\n",
    "from scipy.special import factorial\n",
    "\n",
    "def newton_polynomial(allx, y):\n",
    "    def P(x):\n",
    "        output = 0\n",
    "        h = 1\n",
    "        q = (x - allx[0]) / h\n",
    "        coeffs=np.zeros(shape=(allx.size,allx.size))\n",
    "        for i in range (allx.size):\n",
    "            poly = 1\n",
    "            temp = 0\n",
    "            t = []\n",
    "            for j in range(i+1):\n",
    "                temp += (-1)**(i-j) * y[j] * factorial(i) / (factorial(j) * factorial(i - j))\n",
    "                if (j == i):\n",
    "                    continue\n",
    "                poly *= q - j\n",
    "                t.append(-(-j-allx[0]))           \n",
    "            new = np.poly1d(t, True)\n",
    "            for k in range(len(new.c)):\n",
    "                coeffs[i][len(new.c)-1-k]= new.c[k]*temp / np.math.factorial(i)\n",
    "            output += (poly * temp / np.math.factorial(i)) \n",
    "        t = []\n",
    "        for el in coeffs.T:\n",
    "            t.append(sum(el))\n",
    "        print('коэффициенты многочлена в порядке убывания степени:\\n\\n', np.array(t))\n",
    "        t.reverse()\n",
    "        print('\\n',np.poly1d(t))\n",
    "        return output\n",
    "\n",
    "    return P\n",
    "\n",
    "P = newton_polynomial(X,Y)\n",
    "P(-1.3)"
   ]
  },
  {
   "cell_type": "code",
   "execution_count": 1,
   "metadata": {},
   "outputs": [
    {
     "name": "stdout",
     "output_type": "stream",
     "text": [
      "Вывод слагаемых многочлена Лагранжа:\n",
      "\n",
      "-1.166667  *  (x - 3)(x - 4)(x - 5)\n",
      "2.500000  *  (x - 2)(x - 4)(x - 5)\n",
      "-4.000000  *  (x - 2)(x - 3)(x - 5)\n",
      "1.166667  *  (x - 2)(x - 3)(x - 4)\n",
      "\n",
      "\n",
      "Вывод слагаемых многочлена Ньютона:\n",
      "\n",
      "7.000000  *  \n",
      "-2.000000  *  (q - 1)\n",
      "2.500000  *  (q - 1)(q - 2)\n",
      "-1.500000  *  (q - 1)(q - 2)(q - 3)\n"
     ]
    },
    {
     "data": {
      "text/plain": [
       "161.88549999999998"
      ]
     },
     "execution_count": 1,
     "metadata": {},
     "output_type": "execute_result"
    }
   ],
   "source": [
    "import numpy as np\n",
    "from scipy.special import factorial\n",
    "\n",
    "X = np.array([2,3,4,5])\n",
    "Y = np.array([7,5,8,7])\n",
    "\n",
    "def lagrange_polynomial(all_x,y):\n",
    "    def P(x):\n",
    "        output = 0\n",
    "        print('Вывод слагаемых многочлена Лагранжа:\\n')\n",
    "        for i in range(0,all_x.size):\n",
    "            poly = y[i]       \n",
    "            st = \"\"\n",
    "            temp=y[i]\n",
    "            for j in range(0,all_x.size):\n",
    "                if j == i:\n",
    "                    continue\n",
    "                poly *= (x-all_x[j]) / (all_x[i]-all_x[j])\n",
    "                st += '(x - ' + str(all_x[j]) + ')'\n",
    "                temp*=1 / (all_x[i]-all_x[j])\n",
    "            output += poly\n",
    "            print(str(format(temp, '.6f')),\" * \",st)\n",
    "        return output\n",
    "\n",
    "    return P\n",
    "\n",
    "P = lagrange_polynomial(X,Y)\n",
    "P(-1.3)\n",
    "\n",
    "def newton_polynomial(allx, y):\n",
    "    def P(x):\n",
    "        output = 0\n",
    "        h = 1\n",
    "        q = (x - allx[0]) / h\n",
    "        print('\\nВывод слагаемых многочлена Ньютона:\\n')\n",
    "        for i in range (allx.size):\n",
    "            poly = 1\n",
    "            temp = 0\n",
    "            st = \"\"\n",
    "            for j in range(i+1):                \n",
    "                temp += (-1)**(i-j) * y[j] * factorial(i) / (factorial(j) * factorial(i - j))\n",
    "                if (j == i):\n",
    "                    continue\n",
    "                poly *= q - j\n",
    "                st += '(q - ' + str(j+1) +')'\n",
    "            output += (poly * temp / np.math.factorial(i)) \n",
    "            print(str(format((temp / np.math.factorial(i)), '.6f')),' * ',st)\n",
    "        return output\n",
    "\n",
    "    return P\n",
    "\n",
    "P = newton_polynomial(X,Y)\n",
    "print()\n",
    "P(-1.3)"
   ]
  },
  {
   "cell_type": "code",
   "execution_count": 107,
   "metadata": {},
   "outputs": [],
   "source": [
    "fig_size = plt.rcParams[\"figure.figsize\"]\n",
    "fig_size[0] = 10\n",
    "fig_size[1] = 8\n",
    "plt.rcParams[\"figure.figsize\"] = fig_size"
   ]
  },
  {
   "cell_type": "code",
   "execution_count": 108,
   "metadata": {},
   "outputs": [
    {
     "data": {
      "image/png": "[encoded data removed]",
      "text/plain": [
       "<Figure size 720x576 with 1 Axes>"
      ]
     },
     "metadata": {
      "needs_background": "light"
     },
     "output_type": "display_data"
    }
   ],
   "source": [
    "import matplotlib.pyplot as plt\n",
    "\n",
    "x = np.linspace(-2,4,num=100)\n",
    "Pn = P_n(x)\n",
    "Pl = P_l(x)\n",
    "\n",
    "fig, ax = plt.subplots()\n",
    "\n",
    "#ax.plot(X,Y,'ro')\n",
    "ax.plot(x,Pn,'-c',linewidth=4)\n",
    "ax.plot(x,Pl, ':r',linewidth=4)\n",
    "plt.show()"
   ]
  }
 ],
 "metadata": {
  "kernelspec": {
   "display_name": "Python 3",
   "language": "python",
   "name": "python3"
  },
  "language_info": {
   "codemirror_mode": {
    "name": "ipython",
    "version": 3
   },
   "file_extension": ".py",
   "mimetype": "text/x-python",
   "name": "python",
   "nbconvert_exporter": "python",
   "pygments_lexer": "ipython3",
   "version": "3.9.0"
  }
 },
 "nbformat": 4,
 "nbformat_minor": 2
}
