{
 "cells": [
  {
   "cell_type": "markdown",
   "metadata": {},
   "source": [
    "# Лаба 7"
   ]
  },
  {
   "cell_type": "code",
   "execution_count": 1,
   "metadata": {},
   "outputs": [],
   "source": [
    "import numpy as np"
   ]
  },
  {
   "cell_type": "code",
   "execution_count": 2,
   "metadata": {},
   "outputs": [],
   "source": [
    "a = 0\n",
    "b = np.pi/2\n",
    "n = 4 # количество узлов"
   ]
  },
  {
   "cell_type": "code",
   "execution_count": 3,
   "metadata": {},
   "outputs": [],
   "source": [
    "def f(x):\n",
    "    return np.sin(x)**2"
   ]
  },
  {
   "cell_type": "code",
   "execution_count": 4,
   "metadata": {},
   "outputs": [],
   "source": [
    "def newt_cot(a,b,n,f):\n",
    "    x = []\n",
    "    n = n-1 # тут удобнее использовать число отрезков интегрирования,\n",
    "            # нежели число ординат\n",
    "    for i in range(0,n+1):\n",
    "        x.append(a + (i)*(b-a)/(n))\n",
    "    return (b-a)/8 * (f(x[0]) + 3*f(x[1]) + 3*f(x[2]) + f(x[3]))"
   ]
  },
  {
   "cell_type": "code",
   "execution_count": 5,
   "metadata": {},
   "outputs": [],
   "source": [
    "def simps(a,b,n,f):\n",
    "    h = (b-a)/n\n",
    "    y = []\n",
    "    for i in range(n+1):\n",
    "        y.append(f(a+i*h))\n",
    "    sigma1 = 0\n",
    "    sigma2 = 0\n",
    "    for i in range(1,n):\n",
    "        if i%2 == 0:\n",
    "            sigma2 += y[i]\n",
    "        else:\n",
    "            sigma1 += y[i]\n",
    "    return h/3 * (y[0] + y[n] + 4*sigma1 + 2*sigma2)"
   ]
  },
  {
   "cell_type": "code",
   "execution_count": 6,
   "metadata": {},
   "outputs": [],
   "source": [
    "def gauss(a,b,n,f):\n",
    "    B = []\n",
    "    A = []\n",
    "    t = np.sort(np.roots([35/8, 0, -30/8, 0, 3/8]))\n",
    "    for i in range(1,n+1):\n",
    "        if i%2 == 0:\n",
    "            B.append(0)\n",
    "        else:\n",
    "            B.append(2/i)\n",
    "        coeffs = map(lambda x: x**(i-1), t)\n",
    "        A.append(list(coeffs))\n",
    "    Ai = np.linalg.solve(A, B)\n",
    "    x = []\n",
    "    for el in t:\n",
    "        x.append((b+a)/2 + el*(b-a)/2)\n",
    "    res = 0\n",
    "    for i in range(n):\n",
    "        res += Ai[i]*f(x[i])\n",
    "    res *= (b-a)/2\n",
    "    return res"
   ]
  },
  {
   "cell_type": "code",
   "execution_count": 7,
   "metadata": {},
   "outputs": [],
   "source": [
    "from prettytable import PrettyTable"
   ]
  },
  {
   "cell_type": "code",
   "execution_count": 10,
   "metadata": {},
   "outputs": [
    {
     "name": "stdout",
     "output_type": "stream",
     "text": [
      "+------------------------+--------------------+\n",
      "|     Метод подсчета     | Значение интеграла |\n",
      "+------------------------+--------------------+\n",
      "|   Взят в явном виде    | 0.7853981633974483 |\n",
      "| Формула Ньютона-Котеса | 0.7853981633974481 |\n",
      "|    Формула Симпсона    | 0.7853981633974483 |\n",
      "|     Формула Гаусса     | 0.7853981633974483 |\n",
      "+------------------------+--------------------+\n"
     ]
    }
   ],
   "source": [
    "tab = PrettyTable(['Метод подсчета', 'Значение интеграла'])\n",
    "tab.add_row(['Взят в явном виде', np.pi/4])\n",
    "tab.add_row(['Формула Ньютона-Котеса', newt_cot(a,b,n,f)])\n",
    "tab.add_row(['Формула Симпсона', simps(a,b,n,f)])\n",
    "tab.add_row(['Формула Гаусса', gauss(a,b,n,f)])\n",
    "print(tab)"
   ]
  },
  {
   "cell_type": "code",
   "execution_count": null,
   "metadata": {},
   "outputs": [],
   "source": []
  }
 ],
 "metadata": {
  "kernelspec": {
   "display_name": "Python 3",
   "language": "python",
   "name": "python3"
  },
  "language_info": {
   "codemirror_mode": {
    "name": "ipython",
    "version": 3
   },
   "file_extension": ".py",
   "mimetype": "text/x-python",
   "name": "python",
   "nbconvert_exporter": "python",
   "pygments_lexer": "ipython3",
   "version": "3.9.0"
  }
 },
 "nbformat": 4,
 "nbformat_minor": 2
}
