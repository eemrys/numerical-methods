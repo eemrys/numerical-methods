{
 "cells": [
  {
   "cell_type": "markdown",
   "metadata": {},
   "source": [
    "# Лаба 9"
   ]
  },
  {
   "cell_type": "markdown",
   "metadata": {},
   "source": [
    "x^2y''-xy'+y=lnx/x+x/lnx\n",
    "\n",
    "y(1)=0\n",
    "y'(2)=1\n",
    "\n",
    "y'' - y'/x + y/x^2 = lnx/x^3 + 1/xlnx\n",
    "\n",
    "p = -1/x\n",
    "\n",
    "q = 1/x^2\n",
    "\n",
    "f = lnx/x^3 + 1/xlnx"
   ]
  },
  {
   "cell_type": "code",
   "execution_count": 295,
   "metadata": {},
   "outputs": [],
   "source": [
    "a=1\n",
    "b=2\n",
    "A = 0\n",
    "B = 0\n",
    "a0 = 1\n",
    "a1 = 0\n",
    "b0 = 1\n",
    "b1 = 0\n",
    "p = (lambda x: 1/x)\n",
    "q = (lambda x: 0)\n",
    "f = (lambda x: 6*np.log(x)/x)"
   ]
  },
  {
   "cell_type": "code",
   "execution_count": 296,
   "metadata": {},
   "outputs": [],
   "source": [
    "def solve(n):\n",
    "    h = (b-a)/n\n",
    "    x = np.linspace(a, b, n+1) \n",
    "    coef=[]\n",
    "    val=[]\n",
    "    y = np.zeros((n+1))\n",
    "    y[0]=a0\n",
    "    coef.append(y)\n",
    "    val.append(0)\n",
    "    for i in range(1,n):\n",
    "        y = np.zeros((n+1))\n",
    "        pi = p(x[i])\n",
    "        qi = q(x[i])\n",
    "        fi = f(x[i])\n",
    "        y[i-1]=(1 - h/2 *p(x[i]))\n",
    "        y[i]=-(2 - h**2*q(x[i]))\n",
    "        y[i+1]=(1 + h/2 *p(x[i]))\n",
    "        coef.append(y)\n",
    "        val.append(h**2*f(x[i]))\n",
    "    #P = b1*(2-h**2*q(x[n-1]))/(1-h/2*p(x[n-1])) - 4*b1\n",
    "    #Q = -b1*(1+h/2*p(x[n-1]))/(1-h/2*p(x[n-1])) + 2*h*b0+3*b1\n",
    "    #R = 2*B*h - (b1 * h**2 * f(x[n-1]))/(1-h/2*p(x[n-1]))\n",
    "    #y = np.zeros((n+1))\n",
    "    #y[n-1]=P\n",
    "    #y[n]=Q\n",
    "    #coef.append(y)\n",
    "    #val.append(R)\n",
    "    y = np.zeros((n+1))\n",
    "    y[n]=b0\n",
    "    coef.append(y)\n",
    "    val.append(0)\n",
    "    return coef, val"
   ]
  },
  {
   "cell_type": "code",
   "execution_count": 297,
   "metadata": {},
   "outputs": [],
   "source": [
    "def loop(delta):\n",
    "    from prettytable import PrettyTable\n",
    "    tab = PrettyTable(['n', '2n', 'delta%'])\n",
    "    tab.add_row([0,0,0])\n",
    "    n = 5\n",
    "    n2 = n*2\n",
    "    t = True \n",
    "    while t:\n",
    "        t = False;\n",
    "        matr1 = solve(n)\n",
    "        matr2 = solve(n2)\n",
    "        res_n = np.linalg.solve(matr1[0],matr1[1])\n",
    "        res_2n = np.linalg.solve(matr2[0],matr2[1])\n",
    "        for i in range(1,n):\n",
    "            diff = np.fabs((res_n[i]-res_2n[2*i])/res_n[i] * 100)\n",
    "            if diff > delta:\n",
    "                t = True\n",
    "            else:\n",
    "                tab.add_row([format(res_n[i], '.6f'), format(res_2n[2*i], '.6f'),diff])\n",
    "        if not t:\n",
    "            tab.add_row([0,0,0])\n",
    "            print(tab)\n",
    "            break\n",
    "    return matr1,matr2,res_n,res_2n   "
   ]
  },
  {
   "cell_type": "code",
   "execution_count": 298,
   "metadata": {},
   "outputs": [
    {
     "name": "stdout",
     "output_type": "stream",
     "text": [
      "+-----------+-----------+---------------------+\n",
      "|     n     |     2n    |        delta%       |\n",
      "+-----------+-----------+---------------------+\n",
      "|     0     |     0     |          0          |\n",
      "| -0.119671 | -0.118969 |  0.586840256683311  |\n",
      "| -0.187272 | -0.186455 | 0.43640082943020914 |\n",
      "| -0.192025 | -0.191368 |  0.3418218711301321 |\n",
      "| -0.129864 | -0.129503 | 0.27784408065322314 |\n",
      "|     0     |     0     |          0          |\n",
      "+-----------+-----------+---------------------+\n"
     ]
    }
   ],
   "source": [
    "matr1,matr2,res_n,res_2n=loop(1)"
   ]
  },
  {
   "cell_type": "code",
   "execution_count": 285,
   "metadata": {},
   "outputs": [
    {
     "name": "stdout",
     "output_type": "stream",
     "text": [
      "[1. 0. 0. 0. 0. 0.]\n",
      "[ 0.9167 -2.      1.0833  0.      0.      0.    ]\n",
      "[ 0.      0.9286 -2.      1.0714  0.      0.    ]\n",
      "[ 0.      0.      0.9375 -2.      1.0625  0.    ]\n",
      "[ 0.      0.      0.      0.9444 -2.      1.0556]\n",
      "[0. 0. 0. 0. 0. 1.]\n",
      "\n",
      " [0, 0.03646431135879093, 0.0576809548493508, 0.07050054438686035, 0.07837155532028255, 0]\n"
     ]
    }
   ],
   "source": [
    "np.set_printoptions(precision=4)\n",
    "for el in matr1[0]:\n",
    "    print(el)\n",
    "print('\\n',matr1[1])"
   ]
  },
  {
   "cell_type": "code",
   "execution_count": 286,
   "metadata": {
    "scrolled": true
   },
   "outputs": [
    {
     "name": "stdout",
     "output_type": "stream",
     "text": [
      "[1. 0. 0. 0. 0. 0. 0. 0. 0. 0. 0.]\n",
      "[ 0.95 -2.    1.05  0.    0.    0.    0.    0.    0.    0.    0.  ]\n",
      "[ 0.    0.96 -2.    1.04  0.    0.    0.    0.    0.    0.    0.  ]\n",
      "[ 0.    0.    0.96 -2.    1.04  0.    0.    0.    0.    0.    0.  ]\n",
      "[ 0.    0.    0.    0.96 -2.    1.04  0.    0.    0.    0.    0.  ]\n",
      "[ 0.    0.    0.    0.    0.97 -2.    1.03  0.    0.    0.    0.  ]\n",
      "[ 0.    0.    0.    0.    0.    0.97 -2.    1.03  0.    0.    0.  ]\n",
      "[ 0.    0.    0.    0.    0.    0.    0.97 -2.    1.03  0.    0.  ]\n",
      "[ 0.    0.    0.    0.    0.    0.    0.    0.97 -2.    1.03  0.  ]\n",
      "[ 0.    0.    0.    0.    0.    0.    0.    0.    0.97 -2.    1.03]\n",
      "[0. 0. 0. 0. 0. 0. 0. 0. 0. 0. 1.]\n",
      "\n",
      " [0, 0.005198737080235907, 0.009116077839697732, 0.01210911989849959, 0.0144202387123377, 0.016218604324326577, 0.017625136096715087, 0.01872805591984131, 0.019592888830070637, 0.020269070089654572, 0]\n"
     ]
    }
   ],
   "source": [
    "np.set_printoptions(precision=2)\n",
    "\n",
    "for el in matr2[0]:\n",
    "    print(el)\n",
    "print('\\n',matr2[1])"
   ]
  },
  {
   "cell_type": "code",
   "execution_count": 287,
   "metadata": {},
   "outputs": [
    {
     "data": {
      "text/plain": [
       "array([ 0.     , -0.11967, -0.18727, -0.19202, -0.12986,  0.     ])"
      ]
     },
     "execution_count": 287,
     "metadata": {},
     "output_type": "execute_result"
    }
   ],
   "source": [
    "np.set_printoptions(precision=5)\n",
    "res_n"
   ]
  },
  {
   "cell_type": "code",
   "execution_count": 288,
   "metadata": {},
   "outputs": [
    {
     "data": {
      "text/plain": [
       "array([ 0.     , -0.06479, -0.11897, -0.16006, -0.18646, -0.1971 ,\n",
       "       -0.19137, -0.16889, -0.1295 , -0.07318,  0.     ])"
      ]
     },
     "execution_count": 288,
     "metadata": {},
     "output_type": "execute_result"
    }
   ],
   "source": [
    "res_2n"
   ]
  }
 ],
 "metadata": {
  "kernelspec": {
   "display_name": "Python 3",
   "language": "python",
   "name": "python3"
  },
  "language_info": {
   "codemirror_mode": {
    "name": "ipython",
    "version": 3
   },
   "file_extension": ".py",
   "mimetype": "text/x-python",
   "name": "python",
   "nbconvert_exporter": "python",
   "pygments_lexer": "ipython3",
   "version": "3.9.0"
  }
 },
 "nbformat": 4,
 "nbformat_minor": 2
}
