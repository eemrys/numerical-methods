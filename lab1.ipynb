{
 "cells": [
  {
   "cell_type": "markdown",
   "metadata": {},
   "source": [
    "# Лаба 1"
   ]
  },
  {
   "cell_type": "code",
   "execution_count": 1,
   "metadata": {},
   "outputs": [],
   "source": [
    "import numpy as np"
   ]
  },
  {
   "cell_type": "code",
   "execution_count": 18,
   "metadata": {},
   "outputs": [],
   "source": [
    "e = 0.0001"
   ]
  },
  {
   "cell_type": "code",
   "execution_count": 3,
   "metadata": {},
   "outputs": [],
   "source": [
    "def bisection(f,a,b):\n",
    "    if f(a)*f(b) >= 0:\n",
    "        print(\"Bisection method fails.\")\n",
    "        return None\n",
    "    x = (a + b) / 2\n",
    "    while np.fabs(f(x)) > e:\n",
    "        a, b = (a, x) if f(a)*f(x) < 0 else (x, b)\n",
    "        x = (a + b) / 2\n",
    "    return x"
   ]
  },
  {
   "cell_type": "code",
   "execution_count": 4,
   "metadata": {},
   "outputs": [],
   "source": [
    "funct = lambda x: np.tan(x) - x - 0.5\n",
    "Dfunct = lambda x: (1 / np.cos(x)**2) - 1"
   ]
  },
  {
   "cell_type": "code",
   "execution_count": 5,
   "metadata": {},
   "outputs": [
    {
     "name": "stdout",
     "output_type": "stream",
     "text": [
      "0.9749726224336488 -0.00009696\n"
     ]
    }
   ],
   "source": [
    "sol = bisection(funct,0,np.pi/3)\n",
    "print(sol, format(funct(sol), '.8f'))"
   ]
  },
  {
   "cell_type": "code",
   "execution_count": 2,
   "metadata": {},
   "outputs": [],
   "source": [
    "import matplotlib.pyplot as plt"
   ]
  },
  {
   "cell_type": "code",
   "execution_count": 7,
   "metadata": {},
   "outputs": [
    {
     "data": {
      "text/plain": [
       "<matplotlib.collections.LineCollection at 0x1125f5978>"
      ]
     },
     "execution_count": 7,
     "metadata": {},
     "output_type": "execute_result"
    },
    {
     "data": {
      "image/png": "[encoded data removed]",
      "text/plain": [
       "<Figure size 432x288 with 1 Axes>"
      ]
     },
     "metadata": {
      "needs_background": "light"
     },
     "output_type": "display_data"
    }
   ],
   "source": [
    "X = np.arange(0.0, 1.0, 0.001)\n",
    "plt.figure()\n",
    "plt.plot(X, funct(X),linewidth=2)\n",
    "plt.hlines(0, 0, 1, color='g')\n",
    "plt.vlines(bisection(funct,0,np.pi/3), -0.5, 0.1, color='c')"
   ]
  },
  {
   "cell_type": "code",
   "execution_count": 8,
   "metadata": {},
   "outputs": [],
   "source": [
    "def secant(f, x0, x1):\n",
    "    f_x0 = f(x0)\n",
    "    f_x1 = f(x1)\n",
    "    iter_count = 0\n",
    "    while np.fabs(f_x1) > e:\n",
    "        try:\n",
    "            k = float(f_x1 - f_x0)/(x1 - x0)\n",
    "            x = x0 - float(f_x0)/k\n",
    "        except ZeroDivisionError:\n",
    "            print (\"error: zero division error for x = \", x)\n",
    "            sys.exit(1)     \n",
    "        x0 = x1\n",
    "        x1 = x\n",
    "        f_x0 = f_x1\n",
    "        f_x1 = f(x1)\n",
    "        iter_count += 1\n",
    "    print(iter_count, \" interations\")\n",
    "    return x1"
   ]
  },
  {
   "cell_type": "code",
   "execution_count": 18,
   "metadata": {},
   "outputs": [
    {
     "name": "stdout",
     "output_type": "stream",
     "text": [
      "6  interations\n",
      "0.975017332258772 0.00000030\n"
     ]
    }
   ],
   "source": [
    "sol = secant(funct,0,np.pi/3)\n",
    "print(sol, format(funct(sol), '.8f'))"
   ]
  },
  {
   "cell_type": "code",
   "execution_count": 3,
   "metadata": {},
   "outputs": [],
   "source": [
    "from scipy import misc"
   ]
  },
  {
   "cell_type": "code",
   "execution_count": 13,
   "metadata": {},
   "outputs": [],
   "source": [
    "def newton(f,Df,x0):\n",
    "    x = x0\n",
    "    fx = f(x)\n",
    "    while np.fabs(fx) > e:\n",
    "        Dfx = Df(x)\n",
    "        if Dfx == 0:\n",
    "            print('zero derivative')\n",
    "            return None\n",
    "        x = x - fx/Dfx\n",
    "        fx = f(x)\n",
    "    return x"
   ]
  },
  {
   "cell_type": "code",
   "execution_count": 16,
   "metadata": {},
   "outputs": [
    {
     "name": "stdout",
     "output_type": "stream",
     "text": [
      "0.9750173151388035 0.00000027\n"
     ]
    }
   ],
   "source": [
    "sol = newton(funct,Dfunct,np.pi/3)\n",
    "print(sol, format(funct(sol), '.8f'))"
   ]
  },
  {
   "cell_type": "code",
   "execution_count": 4,
   "metadata": {},
   "outputs": [],
   "source": [
    "from prettytable import PrettyTable"
   ]
  },
  {
   "cell_type": "code",
   "execution_count": 131,
   "metadata": {},
   "outputs": [],
   "source": [
    "def bisection2(f,a,b):\n",
    "    iter_count = 0\n",
    "    t = PrettyTable(['n', 'xl', 'f(xl)', 'xr', 'f(xr)', 'xr - xl'])\n",
    "    if f(a)*f(b) >= 0:\n",
    "        print(\"Bisection method fails.\")\n",
    "        return None\n",
    "    x = (a + b) / 2\n",
    "    t.add_row([iter_count, format(a, '.6f'), format(f(a), '.6f'), format(b, '.6f'), format(f(b), '.6f'), format(np.fabs(b-a), '.6f')])\n",
    "    while np.fabs(f(x)) > e:\n",
    "        iter_count += 1\n",
    "        a, b = (a, x) if f(a)*f(x) < 0 else (x, b)\n",
    "        t.add_row([iter_count, format(a, '.6f'), format(f(a), '.6f'), format(b, '.6f'), format(f(b), '.6f'), format(np.fabs(b-a), '.6f')])\n",
    "        x = (a + b) / 2\n",
    "    t.add_row([iter_count+1, format(x, '.6f'), format(f(x), '.6f'), format(b, '.6f'), format(f(b), '.6f'), format(np.fabs(b-x), '.6f')])\n",
    "    print(t)\n",
    "    return x"
   ]
  },
  {
   "cell_type": "code",
   "execution_count": 133,
   "metadata": {},
   "outputs": [
    {
     "name": "stdout",
     "output_type": "stream",
     "text": [
      "+----+----------+-----------+----------+----------+----------+\n",
      "| n  |    xl    |   f(xl)   |    xr    |  f(xr)   | xr - xl  |\n",
      "+----+----------+-----------+----------+----------+----------+\n",
      "| 0  | 0.000000 | -0.500000 | 1.047198 | 0.184853 | 1.047198 |\n",
      "| 1  | 0.523599 | -0.446249 | 1.047198 | 0.184853 | 0.523599 |\n",
      "| 2  | 0.785398 | -0.285398 | 1.047198 | 0.184853 | 0.261799 |\n",
      "| 3  | 0.916298 | -0.113072 | 1.047198 | 0.184853 | 0.130900 |\n",
      "| 4  | 0.916298 | -0.113072 | 0.981748 | 0.014858 | 0.065450 |\n",
      "| 5  | 0.949023 | -0.053524 | 0.981748 | 0.014858 | 0.032725 |\n",
      "| 6  | 0.965385 | -0.020528 | 0.981748 | 0.014858 | 0.016362 |\n",
      "| 7  | 0.973566 | -0.003146 | 0.981748 | 0.014858 | 0.008181 |\n",
      "| 8  | 0.973566 | -0.003146 | 0.977657 | 0.005776 | 0.004091 |\n",
      "| 9  | 0.973566 | -0.003146 | 0.975612 | 0.001295 | 0.002045 |\n",
      "| 10 | 0.974589 | -0.000930 | 0.975612 | 0.001295 | 0.001023 |\n",
      "| 11 | 0.974589 | -0.000930 | 0.975100 | 0.000181 | 0.000511 |\n",
      "| 12 | 0.974845 | -0.000375 | 0.975100 | 0.000181 | 0.000256 |\n",
      "| 13 | 0.974973 | -0.000097 | 0.975100 | 0.000181 | 0.000128 |\n",
      "+----+----------+-----------+----------+----------+----------+\n"
     ]
    },
    {
     "data": {
      "text/plain": [
       "0.9749726224336488"
      ]
     },
     "execution_count": 133,
     "metadata": {},
     "output_type": "execute_result"
    }
   ],
   "source": [
    "f = lambda x: np.tan(x) + x - 1\n",
    "bisection2(funct,0,np.pi/3)"
   ]
  },
  {
   "cell_type": "code",
   "execution_count": 129,
   "metadata": {},
   "outputs": [],
   "source": [
    "def secant2(f, x0, x1):\n",
    "    iter_count = 0\n",
    "    t = PrettyTable(['n', 'Xn', 'f(Xn)', 'Xn+1', 'f(Xn+1)', 'Xn+1 - Xn'])\n",
    "    f_x0 = f(x0)\n",
    "    f_x1 = f(x1)\n",
    "    t.add_row([iter_count, format(x0, '.6f'), format(f_x0, '.6f'), format(x1, '.6f'), format(f_x1, '.6f'), format(np.fabs(x1 - x0), '.6f')])\n",
    "    while np.fabs(f_x0) > e:\n",
    "        try:\n",
    "            k = float(f_x1 - f_x0)/(x1 - x0)\n",
    "            x = x0 - float(f_x0)/k\n",
    "        except ZeroDivisionError:\n",
    "            print (\"zero division error for x = \", x)\n",
    "            sys.exit(1) \n",
    "        iter_count += 1\n",
    "        x0 = x1\n",
    "        x1 = x  \n",
    "        f_x0 = f_x1\n",
    "        f_x1 = f(x1)\n",
    "        t.add_row([iter_count, format(x0, '.6f'), format(f_x0, '.6f'), format(x1, '.6f'), format(f_x1, '.6f'), format(np.fabs(x1 - x0), '.6f')])\n",
    "    print(t)\n",
    "    return x0"
   ]
  },
  {
   "cell_type": "code",
   "execution_count": 134,
   "metadata": {},
   "outputs": [
    {
     "name": "stdout",
     "output_type": "stream",
     "text": [
      "+---+----------+-----------+----------+-----------+-----------+\n",
      "| n |    Xn    |   f(Xn)   |   Xn+1   |  f(Xn+1)  | Xn+1 - Xn |\n",
      "+---+----------+-----------+----------+-----------+-----------+\n",
      "| 0 | 0.200000 | -0.597290 | 1.200000 |  2.772152 |  1.000000 |\n",
      "| 1 | 1.200000 |  2.772152 | 0.377267 | -0.226486 |  0.822733 |\n",
      "| 2 | 0.377267 | -0.226486 | 0.439408 | -0.090535 |  0.062141 |\n",
      "| 3 | 0.439408 | -0.090535 | 0.480790 |  0.002405 |  0.041382 |\n",
      "| 4 | 0.480790 |  0.002405 | 0.479719 | -0.000027 |  0.001071 |\n",
      "| 5 | 0.479719 | -0.000027 | 0.479731 | -0.000000 |  0.000012 |\n",
      "+---+----------+-----------+----------+-----------+-----------+\n"
     ]
    },
    {
     "data": {
      "text/plain": [
       "0.47971899546873786"
      ]
     },
     "execution_count": 134,
     "metadata": {},
     "output_type": "execute_result"
    }
   ],
   "source": [
    "secant2(f,0.2,1.2)"
   ]
  },
  {
   "cell_type": "code",
   "execution_count": 114,
   "metadata": {},
   "outputs": [],
   "source": [
    "Df = lambda x: (1 / np.cos(x)**2) + 1"
   ]
  },
  {
   "cell_type": "code",
   "execution_count": 124,
   "metadata": {},
   "outputs": [],
   "source": [
    "def newton2(f,Df,x0):\n",
    "    iter_count = 0\n",
    "    t = PrettyTable(['n', 'Xn', 'f(Xn)', 'Df(Xn)', 'Xn+1', 'Xn+1 - Xn'])\n",
    "    x = x0\n",
    "    fx = f(x)\n",
    "    Dfx = Df(x)\n",
    "    if Dfx == 0:\n",
    "        print('zero derivative')\n",
    "        return None\n",
    "    t.add_row([iter_count, format(x, '.6f'), format(fx, '.6f'), format(Dfx, '.6f'), format(x - fx/Dfx, '.6f'), format(np.fabs(fx/Dfx), '.6f')])\n",
    "    while np.fabs(fx) > e:      \n",
    "        x = x - fx/Dfx\n",
    "        fx = f(x)\n",
    "        Dfx = Df(x)\n",
    "        if Dfx == 0:\n",
    "            print('zero derivative')\n",
    "            return None\n",
    "        iter_count += 1\n",
    "        t.add_row([iter_count, format(x, '.6f'), format(fx, '.6f'), format(Dfx, '.6f'), format(x - fx/Dfx, '.6f'), format(np.fabs(fx/Dfx), '.6f')])\n",
    "    print(t)\n",
    "    return x"
   ]
  },
  {
   "cell_type": "code",
   "execution_count": 125,
   "metadata": {},
   "outputs": [
    {
     "name": "stdout",
     "output_type": "stream",
     "text": [
      "+---+----------+----------+----------+----------+-----------+\n",
      "| n |    Xn    |  f(Xn)   |  Df(Xn)  |   Xn+1   | Xn+1 - Xn |\n",
      "+---+----------+----------+----------+----------+-----------+\n",
      "| 0 | 1.047198 | 0.184853 | 3.000000 | 0.985580 |  0.061618 |\n",
      "| 1 | 0.985580 | 0.023513 | 2.277361 | 0.975255 |  0.010325 |\n",
      "| 2 | 0.975255 | 0.000518 | 2.177906 | 0.975017 |  0.000238 |\n",
      "| 3 | 0.975017 | 0.000000 | 2.175677 | 0.975017 |  0.000000 |\n",
      "+---+----------+----------+----------+----------+-----------+\n"
     ]
    },
    {
     "data": {
      "text/plain": [
       "0.9750173151388035"
      ]
     },
     "execution_count": 125,
     "metadata": {},
     "output_type": "execute_result"
    }
   ],
   "source": [
    "newton2(funct,Dfunct,np.pi/3)"
   ]
  },
  {
   "cell_type": "code",
   "execution_count": null,
   "metadata": {},
   "outputs": [],
   "source": []
  }
 ],
 "metadata": {
  "kernelspec": {
   "display_name": "Python 3",
   "language": "python",
   "name": "python3"
  },
  "language_info": {
   "codemirror_mode": {
    "name": "ipython",
    "version": 3
   },
   "file_extension": ".py",
   "mimetype": "text/x-python",
   "name": "python",
   "nbconvert_exporter": "python",
   "pygments_lexer": "ipython3",
   "version": "3.7.5"
  }
 },
 "nbformat": 4,
 "nbformat_minor": 2
}
